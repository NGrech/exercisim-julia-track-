{
    "cells": [
        {
            "cell_type": "markdown",
            "metadata": {},
            "source": [
                "# Nucleotide Count\n",
                "\n",
                "Each of us inherits from our biological parents a set of chemical instructions known as DNA that influence how our bodies are constructed. All known life depends on DNA!\n",
                "\n",
                "> Note: You do not need to understand anything about nucleotides or DNA to complete this exercise.\n",
                "\n",
                "DNA is a long chain of other chemicals and the most important are the four nucleotides, adenine, cytosine, guanine and thymine. A single DNA chain can contain billions of these four nucleotides and the order in which they occur is important!\n",
                "We call the order of these nucleotides in a bit of DNA a \"DNA sequence\".\n",
                "\n",
                "We represent a DNA sequence as an ordered collection of these four nucleotides and a common way to do that is with a string of characters such as \"ATTACG\" for a DNA sequence of 6 nucleotides.\n",
                "'A' for adenine, 'C' for cytosine, 'G' for guanine, and 'T' for thymine.\n",
                "\n",
                "Given a string representing a DNA sequence, count how many of each nucleotide is present.\n",
                "If the string contains characters that aren't A, C, G, or T then it is invalid and you should signal an error.\n",
                "\n",
                "For example:\n",
                "\n",
                "```\n",
                "\"GATTACA\" -> 'A': 3, 'C': 1, 'G': 1, 'T': 2\n",
                "\"INVALID\" -> error\n",
                "```\n",
                "\n",
                "## Source\n",
                "\n",
                "The Calculating DNA Nucleotides_problem at Rosalind [http://rosalind.info/problems/dna/](http://rosalind.info/problems/dna/)\n",
                "\n",
                "## Version compatibility\n",
                "This exercise has been tested on Julia versions >=1.0.\n",
                "\n",
                "## Submitting Incomplete Solutions\n",
                "It's possible to submit an incomplete solution so you can see how others have completed the exercise."
            ]
        },
        {
            "cell_type": "markdown",
            "metadata": {},
            "source": [
                "## Your solution"
            ]
        },
        {
            "cell_type": "code",
            "execution_count": 1,
            "metadata": {},
            "outputs": [
                {
                    "data": {
                        "text/plain": "count_nucleotides"
                    },
                    "execution_count": 1,
                    "metadata": {},
                    "output_type": "execute_result"
                }
            ],
            "source": [
                "# submit\r\n",
                "\"\"\"\r\n",
                "    count_nucleotides(strand)\r\n",
                "\r\n",
                "The frequency of each nucleotide within `strand` as a dictionary.\r\n",
                "\r\n",
                "Invalid strands raise a `DomainError`.\r\n",
                "\r\n",
                "\"\"\"\r\n",
                "function count_nucleotides(strand)\r\n",
                "    \r\n",
                "    nucletoides = Dict{Char, Int}(c => 0 for c in \"ATGC\")\r\n",
                "    for n in strand\r\n",
                "        if n in keys(nucletoides)\r\n",
                "            nucletoides[n] += 1\r\n",
                "        else\r\n",
                "            throw(DomainError(n, \"Invalid nucleotides\"))\r\n",
                "        end\r\n",
                "    end\r\n",
                "    return nucletoides\r\n",
                "end"
            ]
        },
        {
            "cell_type": "markdown",
            "metadata": {},
            "source": [
                "## Test suite"
            ]
        },
        {
            "cell_type": "code",
            "execution_count": 2,
            "metadata": {},
            "outputs": [
                {
                    "name": "stdout",
                    "output_type": "stream",
                    "text": [
                        "\u001b[37m\u001b[1mTest Summary: | \u001b[22m\u001b[39m\u001b[32m\u001b[1mPass  \u001b[22m\u001b[39m\u001b[36m\u001b[1mTotal\u001b[22m\u001b[39m\n",
                        "empty strand  | \u001b[32m   1  \u001b[39m\u001b[36m    1\u001b[39m\n",
                        "\u001b[37m\u001b[1mTest Summary:                                        | \u001b[22m\u001b[39m\u001b[32m\u001b[1mPass  \u001b[22m\u001b[39m\u001b[36m\u001b[1mTotal\u001b[22m\u001b[39m\n",
                        "strang with one nucleotide in single-character input | \u001b[32m   1  \u001b[39m\u001b[36m    1\u001b[39m\n",
                        "\u001b[37m\u001b[1mTest Summary:                   | \u001b[22m\u001b[39m\u001b[32m\u001b[1mPass  \u001b[22m\u001b[39m\u001b[36m\u001b[1mTotal\u001b[22m\u001b[39m\n",
                        "strand with repeated nucleotide | \u001b[32m   1  \u001b[39m\u001b[36m    1\u001b[39m\n",
                        "\u001b[37m\u001b[1mTest Summary:                    | \u001b[22m\u001b[39m\u001b[32m\u001b[1mPass  \u001b[22m\u001b[39m\u001b[36m\u001b[1mTotal\u001b[22m\u001b[39m\n",
                        "strand with multiple nucleotides | \u001b[32m   1  \u001b[39m\u001b[36m    1\u001b[39m\n",
                        "\u001b[37m\u001b[1mTest Summary:                   | \u001b[22m\u001b[39m\u001b[32m\u001b[1mPass  \u001b[22m\u001b[39m\u001b[36m\u001b[1mTotal\u001b[22m\u001b[39m\n",
                        "strand with invalid nucleotides | \u001b[32m   1  \u001b[39m\u001b[36m    1\u001b[39m\n"
                    ]
                },
                {
                    "data": {
                        "text/plain": "Test.DefaultTestSet(\"strand with invalid nucleotides\", Any[], 1, false)"
                    },
                    "execution_count": 2,
                    "metadata": {},
                    "output_type": "execute_result"
                }
            ],
            "source": [
                "using Test\n",
                "\n",
                "# include(\"nucleotide-count.jl\")\n",
                "\n",
                "@testset \"empty strand\" begin\n",
                "    @test count_nucleotides(\"\") == Dict('A' => 0, 'C' => 0, 'G' => 0, 'T' => 0)\n",
                "end\n",
                "\n",
                "@testset \"strang with one nucleotide in single-character input\" begin\n",
                "    @test count_nucleotides(\"G\") == Dict('A' => 0, 'C' => 0, 'G' => 1, 'T' => 0)\n",
                "end\n",
                "\n",
                "@testset \"strand with repeated nucleotide\" begin\n",
                "    @test count_nucleotides(\"GGGGGGG\") == Dict('A' => 0, 'C' => 0, 'G' => 7, 'T' => 0)\n",
                "end\n",
                "\n",
                "@testset \"strand with multiple nucleotides\" begin\n",
                "    @test count_nucleotides(\"AGCTTTTCATTCTGACTGCAACGGGCAATATGTCTCTGTGTGGATTAAAAAAAGAGTGTCTGATAGCAGC\") == Dict('A' => 20, 'C' => 12, 'G' => 17, 'T' => 21)\n",
                "end\n",
                "\n",
                "@testset \"strand with invalid nucleotides\" begin\n",
                "    @test_throws DomainError count_nucleotides(\"AGXXACT\")\n",
                "end"
            ]
        },
        {
            "cell_type": "markdown",
            "metadata": {},
            "source": [
                "## Prepare submission\n",
                "To submit your exercise, you need to save your solution in a file called `nucleotide-count.jl` before using the CLI.\n",
                "You can either create it manually or use the following functions, which will automatically write every notebook cell that starts with `# submit` to the file `nucleotide-count.jl`.\n"
            ]
        },
        {
            "cell_type": "code",
            "execution_count": null,
            "metadata": {},
            "outputs": [],
            "source": [
                "# using Pkg; Pkg.add(\"Exercism\")\n",
                "# using Exercism\n",
                "# Exercism.create_submission(\"nucleotide-count\")"
            ]
        }
    ],
    "metadata": {
        "kernelspec": {
            "display_name": "Julia 1.5.3",
            "language": "julia",
            "name": "julia-1.5"
        },
        "language_info": {
            "file_extension": ".jl",
            "mimetype": "application/julia",
            "name": "julia",
            "version": "1.5.3"
        }
    },
    "nbformat": 4,
    "nbformat_minor": 2
}