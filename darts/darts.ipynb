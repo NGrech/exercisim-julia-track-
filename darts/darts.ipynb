{
    "cells": [
        {
            "cell_type": "markdown",
            "metadata": {},
            "source": [
                "# Darts\n",
                "\n",
                "Write a function that returns the earned points in a single toss of a Darts game.\n",
                "\n",
                "[Darts](https://en.wikipedia.org/wiki/Darts) is a game where players\n",
                "throw darts to a [target](https://en.wikipedia.org/wiki/Darts#/media/File:Darts_in_a_dartboard.jpg).\n",
                "\n",
                "In our particular instance of the game, the target rewards with 4 different amounts of points, depending on where the dart lands:\n",
                "\n",
                "* If the dart lands outside the target, player earns no points (0 points).\n",
                "* If the dart lands in the outer circle of the target, player earns 1 point.\n",
                "* If the dart lands in the middle circle of the target, player earns 5 points.\n",
                "* If the dart lands in the inner circle of the target, player earns 10 points.\n",
                "\n",
                "The outer circle has a radius of 10 units (This is equivalent to the total radius for the entire target), the middle circle a radius of 5 units, and the inner circle a radius of 1. Of course, they are all centered to the same point (That is, the circles are [concentric](http://mathworld.wolfram.com/ConcentricCircles.html)) defined by the coordinates (0, 0).\n",
                "\n",
                "Write a function that given a point in the target (defined by its `real` cartesian coordinates `x` and `y`), returns the correct amount earned by a dart landing in that point.\n",
                "\n",
                "## Source\n",
                "\n",
                "Inspired by an exercise created by a professor Della Paolera in Argentina\n",
                "\n",
                "## Version compatibility\n",
                "This exercise has been tested on Julia versions >=1.0.\n",
                "\n",
                "## Submitting Incomplete Solutions\n",
                "It's possible to submit an incomplete solution so you can see how others have completed the exercise."
            ]
        },
        {
            "cell_type": "markdown",
            "metadata": {},
            "source": [
                "## Your solution"
            ]
        },
        {
            "cell_type": "code",
            "execution_count": 1,
            "metadata": {},
            "outputs": [
                {
                    "data": {
                        "text/plain": "score (generic function with 1 method)"
                    },
                    "execution_count": 1,
                    "metadata": {},
                    "output_type": "execute_result"
                }
            ],
            "source": [
                "# submit\r\n",
                "function score(x, y)\r\n",
                "    d = hypot(x,y)\r\n",
                "    d > 10 && return 0\r\n",
                "    d > 5 && return 1\r\n",
                "    d > 1 && return 5\r\n",
                "    return 10\r\n",
                "\r\n",
                "end"
            ]
        },
        {
            "cell_type": "markdown",
            "metadata": {},
            "source": [
                "## Test suite"
            ]
        },
        {
            "cell_type": "code",
            "execution_count": 2,
            "metadata": {},
            "outputs": [
                {
                    "name": "stdout",
                    "output_type": "stream",
                    "text": [
                        "\u001b[37m\u001b[1mTest Summary: | \u001b[22m\u001b[39m\u001b[32m\u001b[1mPass  \u001b[22m\u001b[39m\u001b[36m\u001b[1mTotal\u001b[22m\u001b[39m\n",
                        "Missed target | \u001b[32m   1  \u001b[39m\u001b[36m    1\u001b[39m\n",
                        "\u001b[37m\u001b[1mTest Summary:       | \u001b[22m\u001b[39m\u001b[32m\u001b[1mPass  \u001b[22m\u001b[39m\u001b[36m\u001b[1mTotal\u001b[22m\u001b[39m\n",
                        "On the outer circle | \u001b[32m   1  \u001b[39m\u001b[36m    1\u001b[39m\n",
                        "\u001b[37m\u001b[1mTest Summary:        | \u001b[22m\u001b[39m\u001b[32m\u001b[1mPass  \u001b[22m\u001b[39m\u001b[36m\u001b[1mTotal\u001b[22m\u001b[39m\n",
                        "On the middle circle | \u001b[32m   1  \u001b[39m\u001b[36m    1\u001b[39m\n",
                        "\u001b[37m\u001b[1mTest Summary:       | \u001b[22m\u001b[39m\u001b[32m\u001b[1mPass  \u001b[22m\u001b[39m\u001b[36m\u001b[1mTotal\u001b[22m\u001b[39m\n",
                        "On the inner circle | \u001b[32m   1  \u001b[39m\u001b[36m    1\u001b[39m\n",
                        "\u001b[37m\u001b[1mTest Summary:     | \u001b[22m\u001b[39m\u001b[32m\u001b[1mPass  \u001b[22m\u001b[39m\u001b[36m\u001b[1mTotal\u001b[22m\u001b[39m\n",
                        "Exactly on centre | \u001b[32m   1  \u001b[39m\u001b[36m    1\u001b[39m\n",
                        "\u001b[37m\u001b[1mTest Summary:   | \u001b[22m\u001b[39m\u001b[32m\u001b[1mPass  \u001b[22m\u001b[39m\u001b[36m\u001b[1mTotal\u001b[22m\u001b[39m\n",
                        "Near the centre | \u001b[32m   1  \u001b[39m\u001b[36m    1\u001b[39m\n",
                        "\u001b[37m\u001b[1mTest Summary:                | \u001b[22m\u001b[39m\u001b[32m\u001b[1mPass  \u001b[22m\u001b[39m\u001b[36m\u001b[1mTotal\u001b[22m\u001b[39m\n",
                        "Just within the inner circle | \u001b[32m   1  \u001b[39m\u001b[36m    1\u001b[39m\n",
                        "\u001b[37m\u001b[1mTest Summary:                 | \u001b[22m\u001b[39m\u001b[32m\u001b[1mPass  \u001b[22m\u001b[39m\u001b[36m\u001b[1mTotal\u001b[22m\u001b[39m\n",
                        "Just outside the inner circle | \u001b[32m   1  \u001b[39m\u001b[36m    1\u001b[39m\n",
                        "\u001b[37m\u001b[1mTest Summary:                 | \u001b[22m\u001b[39m\u001b[32m\u001b[1mPass  \u001b[22m\u001b[39m\u001b[36m\u001b[1mTotal\u001b[22m\u001b[39m\n",
                        "Just within the middle circle | \u001b[32m   1  \u001b[39m\u001b[36m    1\u001b[39m\n",
                        "\u001b[37m\u001b[1mTest Summary:                  | \u001b[22m\u001b[39m\u001b[32m\u001b[1mPass  \u001b[22m\u001b[39m\u001b[36m\u001b[1mTotal\u001b[22m\u001b[39m\n",
                        "Just outside the middle circle | \u001b[32m   1  \u001b[39m\u001b[36m    1\u001b[39m\n",
                        "\u001b[37m\u001b[1mTest Summary:                | \u001b[22m\u001b[39m\u001b[32m\u001b[1mPass  \u001b[22m\u001b[39m\u001b[36m\u001b[1mTotal\u001b[22m\u001b[39m\n",
                        "Just within the outer circle | \u001b[32m   1  \u001b[39m\u001b[36m    1\u001b[39m\n",
                        "\u001b[37m\u001b[1mTest Summary:                 | \u001b[22m\u001b[39m\u001b[32m\u001b[1mPass  \u001b[22m\u001b[39m\u001b[36m\u001b[1mTotal\u001b[22m\u001b[39m\n",
                        "Just outside the outer circle | \u001b[32m   1  \u001b[39m\u001b[36m    1\u001b[39m\n",
                        "\u001b[37m\u001b[1mTest Summary:                                            | \u001b[22m\u001b[39m\u001b[32m\u001b[1mPass  \u001b[22m\u001b[39m\u001b[36m\u001b[1mTotal\u001b[22m\u001b[39m\n",
                        "Asymmetric position between the inner and middle circles | \u001b[32m   1  \u001b[39m\u001b[36m    1\u001b[39m\n"
                    ]
                },
                {
                    "data": {
                        "text/plain": "Test.DefaultTestSet(\"Asymmetric position between the inner and middle circles\", Any[], 1, false)"
                    },
                    "execution_count": 2,
                    "metadata": {},
                    "output_type": "execute_result"
                }
            ],
            "source": [
                "using Test\n",
                "\n",
                "# include(\"darts.jl\")\n",
                "\n",
                "@testset \"Missed target\" begin\n",
                "    @test score(-9, 9) == 0\n",
                "end\n",
                "\n",
                "@testset \"On the outer circle\" begin\n",
                "    @test score(0, 10) == 1\n",
                "end\n",
                "\n",
                "@testset \"On the middle circle\" begin\n",
                "    @test score(-5, 0) == 5\n",
                "end\n",
                "\n",
                "@testset \"On the inner circle\" begin\n",
                "    @test score(0, -1) == 10\n",
                "end\n",
                "\n",
                "@testset \"Exactly on centre\" begin\n",
                "    @test score(0, 0) == 10\n",
                "end\n",
                "\n",
                "@testset \"Near the centre\" begin\n",
                "    @test score(-0.1, -0.1) == 10\n",
                "end\n",
                "\n",
                "@testset \"Just within the inner circle\" begin\n",
                "    @test score(0.7, 0.7) == 10\n",
                "end\n",
                "\n",
                "@testset \"Just outside the inner circle\" begin\n",
                "    @test score(0.8, -0.8) == 5\n",
                "end\n",
                "\n",
                "@testset \"Just within the middle circle\" begin\n",
                "    @test score(-3.5, 3.5) == 5\n",
                "end\n",
                "\n",
                "@testset \"Just outside the middle circle\" begin\n",
                "    @test score(-3.6, -3.6) == 1\n",
                "end\n",
                "\n",
                "@testset \"Just within the outer circle\" begin\n",
                "    @test score(-7.0, 7.0) == 1\n",
                "end\n",
                "\n",
                "@testset \"Just outside the outer circle\" begin\n",
                "    @test score(7.1, -7.1) == 0\n",
                "end\n",
                "\n",
                "@testset \"Asymmetric position between the inner and middle circles\" begin\n",
                "    @test score(0.5, -4) == 5\n",
                "end\n"
            ]
        },
        {
            "cell_type": "markdown",
            "metadata": {},
            "source": [
                "## Prepare submission\n",
                "To submit your exercise, you need to save your solution in a file called `darts.jl` before using the CLI.\n",
                "You can either create it manually or use the following functions, which will automatically write every notebook cell that starts with `# submit` to the file `darts.jl`.\n"
            ]
        },
        {
            "cell_type": "code",
            "execution_count": null,
            "metadata": {},
            "outputs": [],
            "source": [
                "# using Pkg; Pkg.add(\"Exercism\")\n",
                "# using Exercism\n",
                "# Exercism.create_submission(\"darts\")"
            ]
        }
    ],
    "metadata": {
        "kernelspec": {
            "display_name": "Julia 1.5.3",
            "language": "julia",
            "name": "julia-1.5"
        },
        "language_info": {
            "file_extension": ".jl",
            "mimetype": "application/julia",
            "name": "julia",
            "version": "1.5.3"
        }
    },
    "nbformat": 4,
    "nbformat_minor": 2
}