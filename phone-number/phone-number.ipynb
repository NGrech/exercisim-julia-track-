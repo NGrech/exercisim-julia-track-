{
    "cells": [
        {
            "cell_type": "markdown",
            "metadata": {},
            "source": [
                "# Phone Number\n",
                "\n",
                "Clean up user-entered phone numbers so that they can be sent SMS messages.\n",
                "\n",
                "The **North American Numbering Plan (NANP)** is a telephone numbering system used by many countries in North America like the United States, Canada or Bermuda. All NANP-countries share the same international country code: `1`.\n",
                "\n",
                "NANP numbers are ten-digit numbers consisting of a three-digit Numbering Plan Area code, commonly known as *area code*, followed by a seven-digit local number. The first three digits of the local number represent the *exchange code*, followed by the unique four-digit number which is the *subscriber number*.\n",
                "\n",
                "The format is usually represented as\n",
                "\n",
                "```text\n",
                "(NXX)-NXX-XXXX\n",
                "```\n",
                "\n",
                "where `N` is any digit from 2 through 9 and `X` is any digit from 0 through 9.\n",
                "\n",
                "Your task is to clean up differently formatted telephone numbers by removing punctuation and the country code (1) if present.\n",
                "\n",
                "For example, the inputs\n",
                "- `+1 (613)-995-0253`\n",
                "- `613-995-0253`\n",
                "- `1 613 995 0253`\n",
                "- `613.995.0253`\n",
                "\n",
                "should all produce the output\n",
                "\n",
                "`6139950253`\n",
                "\n",
                "**Note:** As this exercise only deals with telephone numbers used in NANP-countries, only 1 is considered a valid country code.\n",
                "\n",
                "## Source\n",
                "\n",
                "Event Manager by JumpstartLab [http://tutorials.jumpstartlab.com/projects/eventmanager.html](http://tutorials.jumpstartlab.com/projects/eventmanager.html)\n",
                "\n",
                "## Version compatibility\n",
                "This exercise has been tested on Julia versions >=1.0.\n",
                "\n",
                "## Submitting Incomplete Solutions\n",
                "It's possible to submit an incomplete solution so you can see how others have completed the exercise."
            ]
        },
        {
            "cell_type": "markdown",
            "metadata": {},
            "source": [
                "## Your solution"
            ]
        },
        {
            "cell_type": "code",
            "execution_count": 44,
            "metadata": {},
            "outputs": [
                {
                    "output_type": "execute_result",
                    "data": {
                        "text/plain": [
                            "\"2234567890\""
                        ]
                    },
                    "metadata": {},
                    "execution_count": 44
                }
            ],
            "source": [
                "ex = \"1223) 456-7890\"\n",
                "numbers = [i for i in ex if isnumeric(i)]\n",
                "size(numbers)[1] >= 11 ? ret = numbers[2:end] : ret = numbers\n",
                "join(ret)"
            ]
        },
        {
            "cell_type": "code",
            "execution_count": 41,
            "metadata": {},
            "outputs": [
                {
                    "output_type": "execute_result",
                    "data": {
                        "text/plain": [
                            "11"
                        ]
                    },
                    "metadata": {},
                    "execution_count": 41
                }
            ],
            "source": [
                "size(numbers)"
            ]
        },
        {
            "cell_type": "code",
            "execution_count": 9,
            "metadata": {},
            "outputs": [
                {
                    "output_type": "execute_result",
                    "data": {
                        "text/plain": [
                            "\"(223) 456-7890\""
                        ]
                    },
                    "metadata": {},
                    "execution_count": 9
                }
            ],
            "source": [
                "examples[1]"
            ]
        },
        {
            "cell_type": "code",
            "execution_count": 36,
            "metadata": {},
            "outputs": [],
            "source": [
                "function clean(phone_number)\n",
                "    # start by stripping out all non numbers\n",
                "    numbers = [i for i in phone_number if isnumeric(i)]\n",
                "\n",
                "    if (size(numbers)[1] == 10) && (parse(Int,numbers[1]) > 1 ) && (parse(Int,numbers[4]) > 1)\n",
                "        return join(numbers)\n",
                "    elseif (size(numbers)[1] == 11) && (parse(Int, numbers[1]) == 1) && (parse(Int,numbers[2:end][1]) >= 2) && (parse(Int,numbers[2:end][4]) >=2)\n",
                "        return join(numbers[2:end])\n",
                "    end\n",
                "end\n",
                "\n",
                "clean(\"(023) 456-7890\")"
            ]
        },
        {
            "cell_type": "markdown",
            "metadata": {},
            "source": [
                "## Test suite"
            ]
        },
        {
            "cell_type": "code",
            "execution_count": 37,
            "metadata": {},
            "outputs": [
                {
                    "output_type": "stream",
                    "name": "stdout",
                    "text": [
                        "\u001b[37m\u001b[1mTest Summary:         | \u001b[22m\u001b[39m\u001b[32m\u001b[1mPass  \u001b[22m\u001b[39m\u001b[36m\u001b[1mTotal\u001b[22m\u001b[39m\n",
                        "clean 10-digit number | \u001b[32m   3  \u001b[39m\u001b[36m    3\u001b[39m\n",
                        "\u001b[37m\u001b[1mTest Summary:                         | \u001b[22m\u001b[39m\u001b[32m\u001b[1mPass  \u001b[22m\u001b[39m\u001b[36m\u001b[1mTotal\u001b[22m\u001b[39m\n",
                        "clean 11-digit number starting with 1 | \u001b[32m   3  \u001b[39m\u001b[36m    3\u001b[39m\n",
                        "\u001b[37m\u001b[1mTest Summary:         | \u001b[22m\u001b[39m\u001b[32m\u001b[1mPass  \u001b[22m\u001b[39m\u001b[36m\u001b[1mTotal\u001b[22m\u001b[39m\n",
                        "detect invalid number | \u001b[32m  14  \u001b[39m\u001b[36m   14\u001b[39m\n"
                    ]
                },
                {
                    "output_type": "execute_result",
                    "data": {
                        "text/plain": [
                            "Test.DefaultTestSet(\"detect invalid number\", Any[Test.DefaultTestSet(\"123456789\", Any[], 1, false), Test.DefaultTestSet(\"1223456789\", Any[], 1, false), Test.DefaultTestSet(\"22234567890\", Any[], 1, false), Test.DefaultTestSet(\"321234567890\", Any[], 1, false), Test.DefaultTestSet(\"223-abc-7890\", Any[], 1, false), Test.DefaultTestSet(\"223-@:!-7890\", Any[], 1, false), Test.DefaultTestSet(\"(023) 456-7890\", Any[], 1, false), Test.DefaultTestSet(\"(123) 456-7890\", Any[], 1, false), Test.DefaultTestSet(\"(223) 056-7890\", Any[], 1, false), Test.DefaultTestSet(\"(223) 156-7890\", Any[], 1, false), Test.DefaultTestSet(\"1 (023) 456-7890\", Any[], 1, false), Test.DefaultTestSet(\"1 (123) 456-7890\", Any[], 1, false), Test.DefaultTestSet(\"1 (223) 056-7890\", Any[], 1, false), Test.DefaultTestSet(\"1 (223) 156-7890\", Any[], 1, false)], 0, false)"
                        ]
                    },
                    "metadata": {},
                    "execution_count": 37
                }
            ],
            "source": [
                "using Test\n",
                "\n",
                "# include(\"phone-number.jl\")\n",
                "\n",
                "# Julia 1.0 compat\n",
                "if VERSION < v\"1.1\"\n",
                "    @eval isnothing(::Any) = false\n",
                "    @eval isnothing(::Nothing) = true\n",
                "end\n",
                "\n",
                "# Tests adapted from `problem-specifications//canonical-data.json` @ v1.2.0\n",
                "# Returns the cleaned phone number as a digit string if given number is valid,\n",
                "# else returns `nothing`.\n",
                "\n",
                "const expected_number = \"2234567890\"\n",
                "const valid_10digit_num = (\n",
                "        \"(223) 456-7890\",\n",
                "        \"223.456.7890\",\n",
                "        \"223 456   7890   \",\n",
                ")\n",
                "const valid_11digit_num = (\n",
                "        \"12234567890\",\n",
                "        \"  1 223 456 7890 \",\n",
                "        \"+1 (223) 456-7890\",\n",
                ")\n",
                "const invalid_num = (\n",
                "        \"123456789\",\n",
                "        \"1223456789\",\n",
                "        \"22234567890\",\n",
                "        \"321234567890\",\n",
                "        \"223-abc-7890\",\n",
                "        \"223-@:!-7890\",\n",
                "        \"(023) 456-7890\",\n",
                "        \"(123) 456-7890\",\n",
                "        \"(223) 056-7890\",\n",
                "        \"(223) 156-7890\",\n",
                "        \"1 (023) 456-7890\",\n",
                "        \"1 (123) 456-7890\",\n",
                "        \"1 (223) 056-7890\",\n",
                "        \"1 (223) 156-7890\",\n",
                ")\n",
                "\n",
                "@testset \"clean 10-digit number\" begin\n",
                "    @testset \"$number\" for number in valid_10digit_num\n",
                "        @test clean(number) == expected_number\n",
                "    end\n",
                "end\n",
                "\n",
                "@testset \"clean 11-digit number starting with 1\" begin\n",
                "    @testset \"$number\" for number in valid_11digit_num\n",
                "        @test clean(number) == expected_number\n",
                "    end\n",
                "end\n",
                "\n",
                "@testset \"detect invalid number\" begin\n",
                "    @testset \"$number\" for number in invalid_num\n",
                "        @test isnothing(clean(number))\n",
                "    end\n",
                "end"
            ]
        },
        {
            "cell_type": "markdown",
            "metadata": {},
            "source": [
                "## Prepare submission\n",
                "To submit your exercise, you need to save your solution in a file called `phone-number.jl` before using the CLI.\n",
                "You can either create it manually or use the following functions, which will automatically write every notebook cell that starts with `# submit` to the file `phone-number.jl`.\n"
            ]
        },
        {
            "cell_type": "code",
            "execution_count": null,
            "metadata": {},
            "outputs": [],
            "source": [
                "# using Pkg; Pkg.add(\"Exercism\")\n",
                "# using Exercism\n",
                "# Exercism.create_submission(\"phone-number\")"
            ]
        }
    ],
    "metadata": {
        "kernelspec": {
            "name": "julia-1.5",
            "display_name": "Julia 1.5.3",
            "language": "julia"
        },
        "language_info": {
            "file_extension": ".jl",
            "mimetype": "application/julia",
            "name": "julia",
            "version": "3.8.5-final"
        }
    },
    "nbformat": 4,
    "nbformat_minor": 2
}