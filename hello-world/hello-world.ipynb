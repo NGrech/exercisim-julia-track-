{
    "cells": [
        {
            "cell_type": "markdown",
            "metadata": {},
            "source": [
                "# Hello World\n",
                "\n",
                "The classical introductory exercise. Just say \"Hello, World!\".\n",
                "\n",
                "[\"Hello, World!\"](http://en.wikipedia.org/wiki/%22Hello,_world!%22_program) is\n",
                "the traditional first program for beginning programming in a new language\n",
                "or environment.\n",
                "\n",
                "The objectives are simple:\n",
                "\n",
                "- Write a function that returns the string \"Hello, World!\".\n",
                "- Run the test suite and make sure that it succeeds.\n",
                "- Submit your solution and check it at the website.\n",
                "\n",
                "If everything goes well, you will be ready to fetch your first real exercise.\n",
                "\n",
                "## Source\n",
                "\n",
                "This is an exercise to introduce users to using Exercism [http://en.wikipedia.org/wiki/%22Hello,_world!%22_program](http://en.wikipedia.org/wiki/%22Hello,_world!%22_program)\n",
                "\n",
                "## Version compatibility\n",
                "This exercise has been tested on Julia versions >=1.0.\n",
                "\n",
                "## Submitting Incomplete Solutions\n",
                "It's possible to submit an incomplete solution so you can see how others have completed the exercise."
            ]
        },
        {
            "cell_type": "markdown",
            "metadata": {},
            "source": [
                "## Your solution"
            ]
        },
        {
            "cell_type": "code",
            "execution_count": 3,
            "metadata": {},
            "outputs": [
                {
                    "output_type": "execute_result",
                    "data": {
                        "text/plain": [
                            "hello (generic function with 1 method)"
                        ]
                    },
                    "metadata": {},
                    "execution_count": 3
                }
            ],
            "source": [
                "# submit\n",
                "function hello()\n",
                "    return \"Hello, World!\"\n",
                "end"
            ]
        },
        {
            "cell_type": "markdown",
            "metadata": {},
            "source": [
                "## Test suite"
            ]
        },
        {
            "cell_type": "code",
            "execution_count": 4,
            "metadata": {},
            "outputs": [
                {
                    "output_type": "stream",
                    "name": "stdout",
                    "text": [
                        "\u001b[37m\u001b[1mTest Summary: | \u001b[22m\u001b[39m\u001b[32m\u001b[1mPass  \u001b[22m\u001b[39m\u001b[36m\u001b[1mTotal\u001b[22m\u001b[39m\nSay Hi!       | \u001b[32m   1  \u001b[39m\u001b[36m    1\u001b[39m\n"
                    ]
                },
                {
                    "output_type": "execute_result",
                    "data": {
                        "text/plain": [
                            "Test.DefaultTestSet(\"Say Hi!\", Any[], 1, false)"
                        ]
                    },
                    "metadata": {},
                    "execution_count": 4
                }
            ],
            "source": [
                "using Test\n",
                "\n",
                "# include(\"hello-world.jl\")\n",
                "\n",
                "@testset \"Say Hi!\" begin\n",
                "    @test hello() == \"Hello, World!\"\n",
                "end"
            ]
        },
        {
            "cell_type": "markdown",
            "metadata": {},
            "source": [
                "## Prepare submission\n",
                "To submit your exercise, you need to save your solution in a file called `hello-world.jl` before using the CLI.\n",
                "You can either create it manually or use the following functions, which will automatically write every notebook cell that starts with `# submit` to the file `hello-world.jl`.\n"
            ]
        },
        {
            "cell_type": "code",
            "execution_count": 5,
            "metadata": {},
            "outputs": [],
            "source": [
                "# using Pkg; Pkg.add(\"Exercism\")\n",
                "# using Exercism\n",
                "# Exercism.create_submission(\"hello-world\")"
            ]
        },
        {
            "cell_type": "code",
            "execution_count": null,
            "metadata": {},
            "outputs": [],
            "source": []
        }
    ],
    "metadata": {
        "kernelspec": {
            "name": "julia-1.5",
            "display_name": "Julia 1.5.3",
            "language": "julia"
        },
        "language_info": {
            "file_extension": ".jl",
            "mimetype": "application/julia",
            "name": "julia",
            "version": "3.8.5-final"
        }
    },
    "nbformat": 4,
    "nbformat_minor": 2
}