{
    "cells": [
        {
            "cell_type": "markdown",
            "metadata": {},
            "source": [
                "# Triangle\n",
                "\n",
                "Determine if a triangle is equilateral, isosceles, or scalene.\n",
                "\n",
                "An _equilateral_ triangle has all three sides the same length.\n",
                "\n",
                "An _isosceles_ triangle has at least two sides the same length. (It is sometimes\n",
                "specified as having exactly two sides the same length, but for the purposes of\n",
                "this exercise we'll say at least two.)\n",
                "\n",
                "A _scalene_ triangle has all sides of different lengths.\n",
                "\n",
                "## Note\n",
                "\n",
                "For a shape to be a triangle at all, all sides have to be of length > 0, and\n",
                "the sum of the lengths of any two sides must be greater than or equal to the\n",
                "length of the third side. See [Triangle Inequality](https://en.wikipedia.org/wiki/Triangle_inequality).\n",
                "\n",
                "## Dig Deeper\n",
                "\n",
                "The case where the sum of the lengths of two sides _equals_ that of the\n",
                "third is known as a _degenerate_ triangle - it has zero area and looks like\n",
                "a single line. Feel free to add your own code/tests to check for degenerate triangles.\n",
                "\n",
                "## Source\n",
                "\n",
                "The Ruby Koans triangle project, parts 1 & 2 [http://rubykoans.com](http://rubykoans.com)\n",
                "\n",
                "## Version compatibility\n",
                "This exercise has been tested on Julia versions >=1.0.\n",
                "\n",
                "## Submitting Incomplete Solutions\n",
                "It's possible to submit an incomplete solution so you can see how others have completed the exercise."
            ]
        },
        {
            "cell_type": "markdown",
            "metadata": {},
            "source": [
                "## Your solution"
            ]
        },
        {
            "cell_type": "code",
            "execution_count": 25,
            "metadata": {},
            "outputs": [
                {
                    "output_type": "execute_result",
                    "data": {
                        "text/plain": [
                            "false"
                        ]
                    },
                    "metadata": {},
                    "execution_count": 25
                }
            ],
            "source": [
                "# submit\n",
                "function is_triangle(sides)\n",
                "     0 in sides ? false : ((sides[1] + sides[2]) >= sides[3]) && ((sides[2] + sides[3]) >= sides[1]) && ((sides[1] + sides[3]) >= sides[2]) \n",
                "end\n",
                "\n",
                "\n",
                "function is_equilateral(sides)\n",
                "    is_triangle(sides) ? (sides[1] == sides[2]) && (sides[1] == sides[3]) : false\n",
                "end\n",
                "\n",
                "function is_isosceles(sides)\n",
                "    is_triangle(sides) ? ((sides[1] == sides[2]) || (sides[1] == sides[3]) || (sides[3] == sides[2])) : false\n",
                "end\n",
                "\n",
                "function is_scalene(sides)\n",
                "    is_triangle(sides) ? !is_isosceles(sides) : false\n",
                "end\n",
                "\n",
                "sides = [7, 3, 2]\n",
                "\n",
                "is_triangle(sides)"
            ]
        },
        {
            "cell_type": "markdown",
            "metadata": {},
            "source": [
                "## Test suite"
            ]
        },
        {
            "cell_type": "code",
            "execution_count": 26,
            "metadata": {},
            "outputs": [
                {
                    "output_type": "stream",
                    "name": "stdout",
                    "text": [
                        "\u001b[37m\u001b[1mTest Summary:               | \u001b[22m\u001b[39m\u001b[32m\u001b[1mPass  \u001b[22m\u001b[39m\u001b[36m\u001b[1mTotal\u001b[22m\u001b[39m\ncheck equilateral triangles | \u001b[32m   5  \u001b[39m\u001b[36m    5\u001b[39m\n\u001b[37m\u001b[1mTest Summary:             | \u001b[22m\u001b[39m\u001b[32m\u001b[1mPass  \u001b[22m\u001b[39m\u001b[36m\u001b[1mTotal\u001b[22m\u001b[39m\ncheck isosceles triangles | \u001b[32m   9  \u001b[39m\u001b[36m    9\u001b[39m\n\u001b[37m\u001b[1mTest Summary:           | \u001b[22m\u001b[39m\u001b[32m\u001b[1mPass  \u001b[22m\u001b[39m\u001b[36m\u001b[1mTotal\u001b[22m\u001b[39m\ncheck scalene triangles | \u001b[32m  10  \u001b[39m\u001b[36m   10\u001b[39m\n"
                    ]
                },
                {
                    "output_type": "execute_result",
                    "data": {
                        "text/plain": [
                            "Test.DefaultTestSet(\"check scalene triangles\", Any[Test.DefaultTestSet(\"true if no sides are equal\", Any[], 2, false), Test.DefaultTestSet(\"false if at least 2 sides are equal\", Any[], 7, false), Test.DefaultTestSet(\"false if invalid triangle\", Any[], 1, false)], 0, false)"
                        ]
                    },
                    "metadata": {},
                    "execution_count": 26
                }
            ],
            "source": [
                "using Test\n",
                "\n",
                "# include(\"triangle.jl\")\n",
                "\n",
                "@testset \"check equilateral triangles\" begin\n",
                "    @testset \"true if all sides are equal\" begin\n",
                "        @test is_equilateral([2, 2, 2])\n",
                "        @test is_equilateral([0.5, 0.5, 0.5])\n",
                "    end\n",
                "\n",
                "    @testset \"false if any side is unequal\" begin\n",
                "        @test !is_equilateral([2, 3, 2])\n",
                "    end\n",
                "\n",
                "    @testset \"false if no sides are equal\" begin\n",
                "        @test !is_equilateral([5, 4, 6])\n",
                "    end\n",
                "\n",
                "    @testset \"false if invalid triangle\" begin\n",
                "        @test !is_equilateral([0, 0, 0])\n",
                "    end\n",
                "end\n",
                "\n",
                "@testset \"check isosceles triangles\" begin\n",
                "    @testset \"true if at least 2 sides are equal\" begin\n",
                "        @test is_isosceles([3, 4, 4])\n",
                "        @test is_isosceles([4, 3, 4])\n",
                "        @test is_isosceles([4, 4, 3])\n",
                "        @test is_isosceles([4, 4, 4])\n",
                "        @test is_isosceles([0.4, 0.5, 0.5])\n",
                "        @test is_isosceles([0.5, 0.4, 0.5])\n",
                "        @test is_isosceles([0.5, 0.5, 0.4])\n",
                "    end\n",
                "\n",
                "    @testset \"false if no sides are equal\" begin\n",
                "        @test !is_isosceles([2, 3, 4])\n",
                "    end\n",
                "\n",
                "    @testset \"false if invalid triangle\" begin\n",
                "        @test !is_isosceles([1, 1, 3])\n",
                "    end\n",
                "end\n",
                "\n",
                "\n",
                "@testset \"check scalene triangles\" begin\n",
                "    @testset \"true if no sides are equal\" begin\n",
                "        @test is_scalene([5, 4, 6]) == true\n",
                "        @test is_scalene([0.5, 0.4, 0.6]) == true\n",
                "    end\n",
                "\n",
                "    @testset \"false if at least 2 sides are equal\" begin\n",
                "        @test !is_scalene([3, 4, 4])\n",
                "        @test !is_scalene([4, 3, 4])\n",
                "        @test !is_scalene([4, 4, 3])\n",
                "        @test !is_scalene([4, 4, 4])\n",
                "        @test !is_scalene([0.4, 0.5, 0.5])\n",
                "        @test !is_scalene([0.5, 0.4, 0.5])\n",
                "        @test !is_scalene([0.5, 0.5, 0.4])\n",
                "    end\n",
                "\n",
                "    @testset \"false if invalid triangle\" begin\n",
                "        @test !is_scalene([7, 3, 2])\n",
                "    end\n",
                "end"
            ]
        },
        {
            "cell_type": "markdown",
            "metadata": {},
            "source": [
                "## Prepare submission\n",
                "To submit your exercise, you need to save your solution in a file called `triangle.jl` before using the CLI.\n",
                "You can either create it manually or use the following functions, which will automatically write every notebook cell that starts with `# submit` to the file `triangle.jl`.\n"
            ]
        },
        {
            "cell_type": "code",
            "execution_count": null,
            "metadata": {},
            "outputs": [],
            "source": [
                "# using Pkg; Pkg.add(\"Exercism\")\n",
                "# using Exercism\n",
                "# Exercism.create_submission(\"triangle\")"
            ]
        }
    ],
    "metadata": {
        "kernelspec": {
            "name": "julia-1.5",
            "display_name": "Julia 1.5.3",
            "language": "julia"
        },
        "language_info": {
            "file_extension": ".jl",
            "mimetype": "application/julia",
            "name": "julia",
            "version": "3.8.5-final"
        }
    },
    "nbformat": 4,
    "nbformat_minor": 2
}